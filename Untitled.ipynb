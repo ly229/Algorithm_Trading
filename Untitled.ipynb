{
 "cells": [
  {
   "cell_type": "code",
   "execution_count": 1,
   "id": "902807ee-428b-4e08-95f8-b3b13092c2d5",
   "metadata": {},
   "outputs": [],
   "source": [
    "import yfinance as yf\n",
    "import pandas as pd\n",
    "import numpy as np\n",
    "import matplotlib.pyplot as plt\n",
    "import time"
   ]
  },
  {
   "cell_type": "code",
   "execution_count": 2,
   "id": "51b68b54-837b-4cfb-8cda-897f38bf65e0",
   "metadata": {},
   "outputs": [],
   "source": [
    "from curl_cffi import requests"
   ]
  },
  {
   "cell_type": "code",
   "execution_count": 3,
   "id": "079a8d9a-bb83-4648-ad60-f0a441a86838",
   "metadata": {},
   "outputs": [
    {
     "name": "stderr",
     "output_type": "stream",
     "text": [
      "$AAPL: possibly delisted; no price data found  (period=1y)\n"
     ]
    },
    {
     "name": "stdout",
     "output_type": "stream",
     "text": [
      "Empty DataFrame\n",
      "Columns: [Open, High, Low, Close, Adj Close, Volume]\n",
      "Index: []\n"
     ]
    }
   ],
   "source": [
    "# Create a custom session that impersonates a Chrome browser\n",
    "session = requests.Session(impersonate=\"chrome\")\n",
    "\n",
    "# Use the session when creating the Ticker object\n",
    "ticker = 'AAPL'  # example ticker\n",
    "stock_data = yf.Ticker(ticker, session=session)\n",
    "\n",
    "# Fetch stock history\n",
    "data = stock_data.history(period=\"1y\")\n",
    "#data = yf.download(ticker, period=\"1y\", interval=\"1d\")\n",
    "\n",
    "# Display the data\n",
    "print(data)"
   ]
  },
  {
   "cell_type": "code",
   "execution_count": null,
   "id": "5fbcf00f-e3b6-4c05-9c1d-1a43616463d0",
   "metadata": {},
   "outputs": [],
   "source": []
  }
 ],
 "metadata": {
  "kernelspec": {
   "display_name": "Python 3 (ipykernel)",
   "language": "python",
   "name": "python3"
  },
  "language_info": {
   "codemirror_mode": {
    "name": "ipython",
    "version": 3
   },
   "file_extension": ".py",
   "mimetype": "text/x-python",
   "name": "python",
   "nbconvert_exporter": "python",
   "pygments_lexer": "ipython3",
   "version": "3.12.3"
  }
 },
 "nbformat": 4,
 "nbformat_minor": 5
}
