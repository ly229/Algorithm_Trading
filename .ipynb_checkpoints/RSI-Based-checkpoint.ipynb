{
 "cells": [
  {
   "cell_type": "code",
   "execution_count": null,
   "id": "f2eb8da7-64e5-40f1-bdc9-d2f1435ec182",
   "metadata": {},
   "outputs": [],
   "source": [
    "import yfinance as yf\n",
    "import pandas as pd\n",
    "import numpy as np\n",
    "import matplotlib.pyplot as plt\n",
    "\n",
    "# User input for stock ticker\n",
    "ticker = input(\"Enter the stock ticker: \")\n",
    "\n",
    "# Download historical stock data (1 year of data)\n",
    "data = yf.download(ticker, period=\"1y\", interval=\"1d\")\n",
    "\n",
    "# Calculate the RSI (Relative Strength Index)\n",
    "def calculate_rsi(data, window=14):\n",
    "    delta = data.diff()\n",
    "    gain = (delta.where(delta > 0, 0)).rolling(window=window).mean()\n",
    "    loss = (-delta.where(delta < 0, 0)).rolling(window=window).mean()\n",
    "    \n",
    "    rs = gain / loss\n",
    "    rsi = 100 - (100 / (1 + rs))\n",
    "    \n",
    "    return rsi\n",
    "\n",
    "# Add RSI to the data\n",
    "data['RSI'] = calculate_rsi(data['Close'])\n",
    "\n",
    "# Generate Buy/Sell signals based on RSI\n",
    "data['Signal'] = 0\n",
    "data['Signal'][data['RSI'] < 30] = 1  # Buy signal\n",
    "data['Signal'][data['RSI'] > 70] = -1  # Sell signal\n",
    "\n",
    "# Plot the stock price and RSI\n",
    "fig, (ax1, ax2) = plt.subplots(2, 1, figsize=(10, 8))\n",
    "\n",
    "# Plot stock price\n",
    "ax1.plot(data['Close'], label=f'{ticker} Price', color='blue')\n",
    "ax1.set_title(f'{ticker} Stock Price')\n",
    "ax1.legend()\n",
    "\n",
    "# Plot RSI\n",
    "ax2.plot(data['RSI'], label='RSI', color='orange')\n",
    "ax2.axhline(30, color='green', linestyle='--', label='Oversold (30)')\n",
    "ax2.axhline(70, color='red', linestyle='--', label='Overbought (70)')\n",
    "ax2.set_title(f'{ticker} Relative Strength Index (RSI)')\n",
    "ax2.legend()\n",
    "\n",
    "plt\n"
   ]
  }
 ],
 "metadata": {
  "kernelspec": {
   "display_name": "Python 3 (ipykernel)",
   "language": "python",
   "name": "python3"
  },
  "language_info": {
   "codemirror_mode": {
    "name": "ipython",
    "version": 3
   },
   "file_extension": ".py",
   "mimetype": "text/x-python",
   "name": "python",
   "nbconvert_exporter": "python",
   "pygments_lexer": "ipython3",
   "version": "3.12.2"
  }
 },
 "nbformat": 4,
 "nbformat_minor": 5
}
