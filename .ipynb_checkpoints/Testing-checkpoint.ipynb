{
 "cells": [
  {
   "cell_type": "code",
   "execution_count": 1,
   "id": "8f5f9e4b-119a-4399-9f76-0c3499295267",
   "metadata": {},
   "outputs": [
    {
     "data": {
      "text/plain": [
       "'/Users/lu/github/Algorithm_Trading'"
      ]
     },
     "execution_count": 1,
     "metadata": {},
     "output_type": "execute_result"
    }
   ],
   "source": [
    "pwd"
   ]
  },
  {
   "cell_type": "code",
   "execution_count": 1,
   "id": "214c1678-5454-4cda-8d02-351ce66bc8c4",
   "metadata": {},
   "outputs": [],
   "source": [
    "#contribution error testing"
   ]
  },
  {
   "cell_type": "code",
   "execution_count": 2,
   "id": "04249b0f-5a02-4f61-87bc-49997430db77",
   "metadata": {},
   "outputs": [],
   "source": [
    "# contributions(commits for Data_Analysis) not showing under profile\n",
    "# try another commit to Algorithm Trading to see if there is a difference"
   ]
  },
  {
   "cell_type": "code",
   "execution_count": null,
   "id": "09a8ef07-f9fa-4f31-8b88-3cece24c9084",
   "metadata": {},
   "outputs": [],
   "source": []
  }
 ],
 "metadata": {
  "kernelspec": {
   "display_name": "Python 3 (ipykernel)",
   "language": "python",
   "name": "python3"
  },
  "language_info": {
   "codemirror_mode": {
    "name": "ipython",
    "version": 3
   },
   "file_extension": ".py",
   "mimetype": "text/x-python",
   "name": "python",
   "nbconvert_exporter": "python",
   "pygments_lexer": "ipython3",
   "version": "3.12.2"
  }
 },
 "nbformat": 4,
 "nbformat_minor": 5
}
