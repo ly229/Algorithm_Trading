{
 "cells": [
  {
   "cell_type": "code",
   "execution_count": 1,
   "id": "23c9a1bd-c7ad-4a4b-8801-ad48e4350e37",
   "metadata": {},
   "outputs": [
    {
     "name": "stderr",
     "output_type": "stream",
     "text": [
      "2025-08-24 15:23:55.714849: I tensorflow/core/platform/cpu_feature_guard.cc:210] This TensorFlow binary is optimized to use available CPU instructions in performance-critical operations.\n",
      "To enable the following instructions: SSE4.1 SSE4.2 AVX AVX2 AVX512F AVX512_VNNI FMA, in other operations, rebuild TensorFlow with the appropriate compiler flags.\n"
     ]
    }
   ],
   "source": [
    "import numpy as np\n",
    "import pandas as pd\n",
    "import yfinance as yf\n",
    "import time\n",
    "import matplotlib.pyplot as plt\n",
    "from curl_cffi import requests\n",
    "from sklearn.preprocessing import MinMaxScaler\n",
    "from tensorflow.keras.models import Sequential\n",
    "from tensorflow.keras.layers import LSTM, Dense, Dropout"
   ]
  },
  {
   "cell_type": "code",
   "execution_count": 2,
   "id": "a9b7e1b0-2ec9-46d8-9f75-78b23b8b0ba7",
   "metadata": {},
   "outputs": [],
   "source": [
    "# conda install -c conda-forge tensorflow"
   ]
  },
  {
   "cell_type": "markdown",
   "id": "f7a6206d-0b61-4c08-8ffb-92fc1e85f72e",
   "metadata": {},
   "source": [
    "### 1. Load financial time series (Apple stock for example)"
   ]
  },
  {
   "cell_type": "code",
   "execution_count": 10,
   "id": "ee2a96e4-a048-43fa-9b21-60652629e054",
   "metadata": {},
   "outputs": [],
   "source": [
    "# Create a custom session that impersonates a Chrome browser\n",
    "session = requests.Session(impersonate=\"chrome\")\n",
    "\n",
    "# Use the session when creating the Ticker object\n",
    "ticker = 'AAPL'  # example ticker\n",
    "stock_data = yf.Ticker(ticker, session=session)"
   ]
  },
  {
   "cell_type": "code",
   "execution_count": 18,
   "id": "6fbc7625-8ffd-4fed-b172-2c0e0a6ddd9a",
   "metadata": {},
   "outputs": [],
   "source": [
    "# Fetch stock history\n",
    "# data = stock_data.history(period=\"3y\") - both time interval and specified period works"
   ]
  },
  {
   "cell_type": "code",
   "execution_count": 16,
   "id": "5646484a-e91d-4349-9950-7000e86cdd04",
   "metadata": {},
   "outputs": [],
   "source": [
    "# Fetch stock history\n",
    "data = stock_data.history(start=\"2018-01-01\", end=\"2023-01-01\", interval=\"1d\")"
   ]
  },
  {
   "cell_type": "code",
   "execution_count": 17,
   "id": "bc0ff28b-884f-47c2-b681-0be9fcf45cfb",
   "metadata": {},
   "outputs": [
    {
     "name": "stdout",
     "output_type": "stream",
     "text": [
      "(1259, 7)\n"
     ]
    }
   ],
   "source": [
    "# Display the data\n",
    "print(data.shape) "
   ]
  },
  {
   "cell_type": "code",
   "execution_count": 19,
   "id": "1c381c24-607f-483e-8001-c8afaece434f",
   "metadata": {},
   "outputs": [],
   "source": [
    "prices = data[\"Close\"].values.reshape(-1, 1) #reshape for MinMax Scaler"
   ]
  },
  {
   "cell_type": "markdown",
   "id": "38f4ae4f-4dbc-45b8-8368-e80e33698e35",
   "metadata": {},
   "source": [
    "### 2. Normalize prices for stable training"
   ]
  },
  {
   "cell_type": "code",
   "execution_count": 20,
   "id": "47de9026-99ad-4a57-a570-76405b2122d4",
   "metadata": {},
   "outputs": [],
   "source": [
    "scaler = MinMaxScaler(feature_range=(0, 1))\n",
    "scaled_prices = scaler.fit_transform(prices)"
   ]
  },
  {
   "cell_type": "markdown",
   "id": "0b840330-561c-44ef-b720-9a6f16aaac81",
   "metadata": {},
   "source": [
    "### 3. Create sequences (X = past 60 days, y = next day)"
   ]
  },
  {
   "cell_type": "code",
   "execution_count": 21,
   "id": "1e65860d-5886-4d9e-bdf9-470a9d9d4212",
   "metadata": {},
   "outputs": [],
   "source": [
    "#define squence length n\n",
    "n = 60\n",
    "sequence_length = n"
   ]
  },
  {
   "cell_type": "code",
   "execution_count": 22,
   "id": "f3b08b32-edca-4042-aa45-0c73fc59e43c",
   "metadata": {},
   "outputs": [],
   "source": [
    "#create input&output paris\n",
    "X, y = [], []\n",
    "\n",
    "#for targeted day i, we have n days(i-n:i, e.g. i-60:i) as inputs x(i), to predict y(i)\n",
    "for i in range(sequence_length, len(scaled_prices)):\n",
    "    X.append(scaled_prices[i-sequence_length:i, 0])\n",
    "    y.append(scaled_prices[i, 0])\n",
    "X, y = np.array(X), np.array(y)\n",
    "#(neural networks expect NP arrays, not lists)"
   ]
  },
  {
   "cell_type": "code",
   "execution_count": 23,
   "id": "b82b66ef-47ad-4461-a3d1-8573131c54f6",
   "metadata": {},
   "outputs": [],
   "source": [
    "#reshape for LSTM\n",
    "X = np.reshape(X, (X.shape[0], X.shape[1], 1))  # shape = (samples, timesteps_(60days), features_(closing prc))"
   ]
  },
  {
   "cell_type": "markdown",
   "id": "dbe9a43a-6fe0-4a2f-b84b-5521ceb92381",
   "metadata": {},
   "source": [
    "### 4. Build LSTM model\n",
    "- 2 LSTM layers, dense layers to connect and output\n",
    "- dropout(0.2): randomly set 20% of neurons to 0(drop), prevent overfitting\n",
    "- dense(25): enough for 50 units, balance complex and overfit, commonly choice(10-100)"
   ]
  },
  {
   "cell_type": "code",
   "execution_count": 24,
   "id": "3bc95bfd-cd13-4361-9751-d701b108b0f4",
   "metadata": {},
   "outputs": [
    {
     "name": "stderr",
     "output_type": "stream",
     "text": [
      "/opt/anaconda3/lib/python3.12/site-packages/keras/src/layers/rnn/rnn.py:199: UserWarning: Do not pass an `input_shape`/`input_dim` argument to a layer. When using Sequential models, prefer using an `Input(shape)` object as the first layer in the model instead.\n",
      "  super().__init__(**kwargs)\n"
     ]
    }
   ],
   "source": [
    "model = Sequential([\n",
    "    LSTM(50, return_sequences=True, input_shape=(X.shape[1], 1)),\n",
    "    Dropout(0.2),\n",
    "    LSTM(50, return_sequences=False),\n",
    "    Dropout(0.2),\n",
    "    Dense(25),\n",
    "    Dense(1)  # output next price\n",
    "])"
   ]
  },
  {
   "cell_type": "code",
   "execution_count": 25,
   "id": "c9b5a6e8-6be7-4cac-b370-e918e5687a93",
   "metadata": {},
   "outputs": [],
   "source": [
    "model.compile(optimizer=\"adam\", loss=\"mean_squared_error\")\n",
    "#adam: adaptive gradient method, good for time series"
   ]
  },
  {
   "cell_type": "markdown",
   "id": "77264abf-fe01-4ed0-aad3-5009b6fa1098",
   "metadata": {},
   "source": [
    "### 5. Train\n",
    "- batch size: 32, common default balance speed and stability\n",
    "- epochs: 20, balance over and underfit, tuned based on validation loss\n",
    "- verbose: 0, silence; 1, progress bar per epoch; 2, one line per epoch"
   ]
  },
  {
   "cell_type": "code",
   "execution_count": 26,
   "id": "331811d5-ceb0-4302-b205-902ba4c23232",
   "metadata": {},
   "outputs": [
    {
     "name": "stdout",
     "output_type": "stream",
     "text": [
      "Epoch 1/20\n",
      "\u001b[1m38/38\u001b[0m \u001b[32m━━━━━━━━━━━━━━━━━━━━\u001b[0m\u001b[37m\u001b[0m \u001b[1m4s\u001b[0m 26ms/step - loss: 0.0301\n",
      "Epoch 2/20\n",
      "\u001b[1m38/38\u001b[0m \u001b[32m━━━━━━━━━━━━━━━━━━━━\u001b[0m\u001b[37m\u001b[0m \u001b[1m1s\u001b[0m 25ms/step - loss: 0.0050\n",
      "Epoch 3/20\n",
      "\u001b[1m38/38\u001b[0m \u001b[32m━━━━━━━━━━━━━━━━━━━━\u001b[0m\u001b[37m\u001b[0m \u001b[1m1s\u001b[0m 24ms/step - loss: 0.0040\n",
      "Epoch 4/20\n",
      "\u001b[1m38/38\u001b[0m \u001b[32m━━━━━━━━━━━━━━━━━━━━\u001b[0m\u001b[37m\u001b[0m \u001b[1m1s\u001b[0m 24ms/step - loss: 0.0038\n",
      "Epoch 5/20\n",
      "\u001b[1m38/38\u001b[0m \u001b[32m━━━━━━━━━━━━━━━━━━━━\u001b[0m\u001b[37m\u001b[0m \u001b[1m1s\u001b[0m 25ms/step - loss: 0.0033\n",
      "Epoch 6/20\n",
      "\u001b[1m38/38\u001b[0m \u001b[32m━━━━━━━━━━━━━━━━━━━━\u001b[0m\u001b[37m\u001b[0m \u001b[1m1s\u001b[0m 24ms/step - loss: 0.0032\n",
      "Epoch 7/20\n",
      "\u001b[1m38/38\u001b[0m \u001b[32m━━━━━━━━━━━━━━━━━━━━\u001b[0m\u001b[37m\u001b[0m \u001b[1m1s\u001b[0m 24ms/step - loss: 0.0029\n",
      "Epoch 8/20\n",
      "\u001b[1m38/38\u001b[0m \u001b[32m━━━━━━━━━━━━━━━━━━━━\u001b[0m\u001b[37m\u001b[0m \u001b[1m1s\u001b[0m 27ms/step - loss: 0.0031\n",
      "Epoch 9/20\n",
      "\u001b[1m38/38\u001b[0m \u001b[32m━━━━━━━━━━━━━━━━━━━━\u001b[0m\u001b[37m\u001b[0m \u001b[1m1s\u001b[0m 24ms/step - loss: 0.0025\n",
      "Epoch 10/20\n",
      "\u001b[1m38/38\u001b[0m \u001b[32m━━━━━━━━━━━━━━━━━━━━\u001b[0m\u001b[37m\u001b[0m \u001b[1m1s\u001b[0m 26ms/step - loss: 0.0024\n",
      "Epoch 11/20\n",
      "\u001b[1m38/38\u001b[0m \u001b[32m━━━━━━━━━━━━━━━━━━━━\u001b[0m\u001b[37m\u001b[0m \u001b[1m1s\u001b[0m 24ms/step - loss: 0.0023\n",
      "Epoch 12/20\n",
      "\u001b[1m38/38\u001b[0m \u001b[32m━━━━━━━━━━━━━━━━━━━━\u001b[0m\u001b[37m\u001b[0m \u001b[1m1s\u001b[0m 25ms/step - loss: 0.0025\n",
      "Epoch 13/20\n",
      "\u001b[1m38/38\u001b[0m \u001b[32m━━━━━━━━━━━━━━━━━━━━\u001b[0m\u001b[37m\u001b[0m \u001b[1m1s\u001b[0m 25ms/step - loss: 0.0023\n",
      "Epoch 14/20\n",
      "\u001b[1m38/38\u001b[0m \u001b[32m━━━━━━━━━━━━━━━━━━━━\u001b[0m\u001b[37m\u001b[0m \u001b[1m1s\u001b[0m 28ms/step - loss: 0.0022\n",
      "Epoch 15/20\n",
      "\u001b[1m38/38\u001b[0m \u001b[32m━━━━━━━━━━━━━━━━━━━━\u001b[0m\u001b[37m\u001b[0m \u001b[1m1s\u001b[0m 30ms/step - loss: 0.0022\n",
      "Epoch 16/20\n",
      "\u001b[1m38/38\u001b[0m \u001b[32m━━━━━━━━━━━━━━━━━━━━\u001b[0m\u001b[37m\u001b[0m \u001b[1m1s\u001b[0m 26ms/step - loss: 0.0020\n",
      "Epoch 17/20\n",
      "\u001b[1m38/38\u001b[0m \u001b[32m━━━━━━━━━━━━━━━━━━━━\u001b[0m\u001b[37m\u001b[0m \u001b[1m1s\u001b[0m 24ms/step - loss: 0.0018\n",
      "Epoch 18/20\n",
      "\u001b[1m38/38\u001b[0m \u001b[32m━━━━━━━━━━━━━━━━━━━━\u001b[0m\u001b[37m\u001b[0m \u001b[1m1s\u001b[0m 24ms/step - loss: 0.0018\n",
      "Epoch 19/20\n",
      "\u001b[1m38/38\u001b[0m \u001b[32m━━━━━━━━━━━━━━━━━━━━\u001b[0m\u001b[37m\u001b[0m \u001b[1m1s\u001b[0m 24ms/step - loss: 0.0020\n",
      "Epoch 20/20\n",
      "\u001b[1m38/38\u001b[0m \u001b[32m━━━━━━━━━━━━━━━━━━━━\u001b[0m\u001b[37m\u001b[0m \u001b[1m1s\u001b[0m 26ms/step - loss: 0.0018\n"
     ]
    }
   ],
   "source": [
    "history = model.fit(X, y, batch_size=32, epochs=20, verbose=1)"
   ]
  },
  {
   "cell_type": "markdown",
   "id": "af2bb706-fb3d-4935-9682-def923ed524c",
   "metadata": {},
   "source": [
    "### 6. Predict on last 60 days"
   ]
  },
  {
   "cell_type": "code",
   "execution_count": 27,
   "id": "82d058de-043b-4e58-ad54-1595ff81de5a",
   "metadata": {},
   "outputs": [
    {
     "name": "stdout",
     "output_type": "stream",
     "text": [
      "\u001b[1m1/1\u001b[0m \u001b[32m━━━━━━━━━━━━━━━━━━━━\u001b[0m\u001b[37m\u001b[0m \u001b[1m0s\u001b[0m 277ms/step\n",
      "Predicted next-day price: 130.51358\n"
     ]
    }
   ],
   "source": [
    "last_60 = scaled_prices[-60:]\n",
    "last_60 = np.reshape(last_60, (1, last_60.shape[0], 1))\n",
    "predicted_price = model.predict(last_60)\n",
    "predicted_price = scaler.inverse_transform(predicted_price)\n",
    "\n",
    "print(\"Predicted next-day price:\", predicted_price[0][0])"
   ]
  },
  {
   "cell_type": "code",
   "execution_count": null,
   "id": "8e5fff9e-7653-4716-8716-a95896052230",
   "metadata": {},
   "outputs": [],
   "source": []
  }
 ],
 "metadata": {
  "kernelspec": {
   "display_name": "Python 3 (ipykernel)",
   "language": "python",
   "name": "python3"
  },
  "language_info": {
   "codemirror_mode": {
    "name": "ipython",
    "version": 3
   },
   "file_extension": ".py",
   "mimetype": "text/x-python",
   "name": "python",
   "nbconvert_exporter": "python",
   "pygments_lexer": "ipython3",
   "version": "3.12.3"
  }
 },
 "nbformat": 4,
 "nbformat_minor": 5
}
