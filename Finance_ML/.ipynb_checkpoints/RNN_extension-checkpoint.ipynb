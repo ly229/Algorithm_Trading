{
 "cells": [
  {
   "cell_type": "markdown",
   "id": "bd17cc1a-7ec5-4ce1-8cbf-fa27b7e7b764",
   "metadata": {},
   "source": [
    "## Extention to RNN baseline with multifeature GRU model, 5-day forecast and evaluation"
   ]
  },
  {
   "cell_type": "code",
   "execution_count": 2,
   "id": "989da8a3-9dbc-478f-9518-f461e734f51f",
   "metadata": {},
   "outputs": [
    {
     "name": "stderr",
     "output_type": "stream",
     "text": [
      "2025-08-24 16:47:10.696812: I tensorflow/core/platform/cpu_feature_guard.cc:210] This TensorFlow binary is optimized to use available CPU instructions in performance-critical operations.\n",
      "To enable the following instructions: SSE4.1 SSE4.2 AVX AVX2 AVX512F AVX512_VNNI FMA, in other operations, rebuild TensorFlow with the appropriate compiler flags.\n"
     ]
    }
   ],
   "source": [
    "import time\n",
    "import numpy as np\n",
    "import pandas as pd\n",
    "import yfinance as yf\n",
    "from curl_cffi import requests\n",
    "from sklearn.preprocessing import MinMaxScaler\n",
    "from sklearn.metrics import mean_squared_error, mean_absolute_error\n",
    "from tensorflow.keras.models import Sequential\n",
    "from tensorflow.keras.layers import GRU, Dense, Dropout, Input"
   ]
  },
  {
   "cell_type": "markdown",
   "id": "c0e89e57-26d8-4748-b95c-959352b4356b",
   "metadata": {},
   "source": [
    "### 1. Load Data(AAPL)"
   ]
  },
  {
   "cell_type": "code",
   "execution_count": 3,
   "id": "90a57d78-adb1-4c09-8353-8c550a654dfd",
   "metadata": {},
   "outputs": [],
   "source": [
    "# Create a custom session that impersonates a Chrome browser\n",
    "session = requests.Session(impersonate=\"chrome\")\n",
    "\n",
    "# Use the session when creating the Ticker object\n",
    "ticker = 'AAPL'  # example ticker\n",
    "stock_data = yf.Ticker(ticker, session=session)"
   ]
  },
  {
   "cell_type": "code",
   "execution_count": 4,
   "id": "eebeba45-6867-4ff3-bf18-86cd2f78a60c",
   "metadata": {},
   "outputs": [],
   "source": [
    "# Fetch stock history\n",
    "data = stock_data.history(start=\"2018-01-01\", end=\"2023-01-01\", interval=\"1d\")"
   ]
  },
  {
   "cell_type": "code",
   "execution_count": 5,
   "id": "078ad1b1-6f33-423c-bc97-7ea253fa0674",
   "metadata": {},
   "outputs": [],
   "source": [
    "features = data[[\"Open\", \"High\", \"Low\", \"Close\", \"Volume\"]].values"
   ]
  },
  {
   "cell_type": "markdown",
   "id": "2bfb1b5f-9e8c-4459-9622-f0843a6cff6c",
   "metadata": {},
   "source": [
    "### 2. Normalization"
   ]
  },
  {
   "cell_type": "code",
   "execution_count": 6,
   "id": "43608b02-775e-4982-b713-1380a4541298",
   "metadata": {},
   "outputs": [],
   "source": [
    "scaler = MinMaxScaler()\n",
    "scaled_features = scaler.fit_transform(features)"
   ]
  },
  {
   "cell_type": "markdown",
   "id": "eb0e7aa7-930c-4cbc-8904-ed04928f9363",
   "metadata": {},
   "source": [
    "### 3. Sequence"
   ]
  },
  {
   "cell_type": "code",
   "execution_count": 7,
   "id": "f1bf0641-a1f9-4b9f-8c00-63f920263e3d",
   "metadata": {},
   "outputs": [],
   "source": [
    "sequence_length = 60"
   ]
  },
  {
   "cell_type": "code",
   "execution_count": 8,
   "id": "5f1e0fa6-8635-4f44-9e86-0c7437e4a0b5",
   "metadata": {},
   "outputs": [],
   "source": [
    "X, y = [], []\n",
    "for i in range(sequence_length, len(scaled_features)):\n",
    "    X.append(scaled_features[i-sequence_length:i])  # shape (60,5)\n",
    "    y.append(scaled_features[i, 3])  # predict Close price (index 3)\n",
    "\n",
    "X, y = np.array(X), np.array(y)"
   ]
  },
  {
   "cell_type": "markdown",
   "id": "9b322707-48d0-4a24-8c91-96738c8ccc9a",
   "metadata": {},
   "source": [
    "### 4. GRU model"
   ]
  },
  {
   "cell_type": "code",
   "execution_count": 9,
   "id": "f6ea33ea-3c53-4ac8-9ea9-1ce4317d4096",
   "metadata": {},
   "outputs": [],
   "source": [
    "num_features = X.shape[2]"
   ]
  },
  {
   "cell_type": "code",
   "execution_count": 10,
   "id": "02cfd79f-0915-43cf-bbb2-a555646e6daf",
   "metadata": {},
   "outputs": [],
   "source": [
    "model = Sequential([\n",
    "    Input(shape=(sequence_length, num_features)),\n",
    "    GRU(50, return_sequences=True),\n",
    "    Dropout(0.2),\n",
    "    GRU(50, return_sequences=False),\n",
    "    Dropout(0.2),\n",
    "    Dense(25),\n",
    "    Dense(1)\n",
    "])"
   ]
  },
  {
   "cell_type": "code",
   "execution_count": 11,
   "id": "b301b377-56e0-48b5-aec0-6ebcf538f6d1",
   "metadata": {},
   "outputs": [],
   "source": [
    "model.compile(optimizer=\"adam\", loss=\"mean_squared_error\")"
   ]
  },
  {
   "cell_type": "markdown",
   "id": "dd351382-8380-41bd-b478-c22dcfea11be",
   "metadata": {},
   "source": [
    "### 5. Training"
   ]
  },
  {
   "cell_type": "code",
   "execution_count": 12,
   "id": "b0406f83-dddb-4370-86d4-dc38a376d862",
   "metadata": {},
   "outputs": [
    {
     "name": "stdout",
     "output_type": "stream",
     "text": [
      "Epoch 1/20\n",
      "\u001b[1m38/38\u001b[0m \u001b[32m━━━━━━━━━━━━━━━━━━━━\u001b[0m\u001b[37m\u001b[0m \u001b[1m4s\u001b[0m 31ms/step - loss: 0.0414\n",
      "Epoch 2/20\n",
      "\u001b[1m38/38\u001b[0m \u001b[32m━━━━━━━━━━━━━━━━━━━━\u001b[0m\u001b[37m\u001b[0m \u001b[1m1s\u001b[0m 32ms/step - loss: 0.0083\n",
      "Epoch 3/20\n",
      "\u001b[1m38/38\u001b[0m \u001b[32m━━━━━━━━━━━━━━━━━━━━\u001b[0m\u001b[37m\u001b[0m \u001b[1m1s\u001b[0m 33ms/step - loss: 0.0057\n",
      "Epoch 4/20\n",
      "\u001b[1m38/38\u001b[0m \u001b[32m━━━━━━━━━━━━━━━━━━━━\u001b[0m\u001b[37m\u001b[0m \u001b[1m1s\u001b[0m 38ms/step - loss: 0.0049\n",
      "Epoch 5/20\n",
      "\u001b[1m38/38\u001b[0m \u001b[32m━━━━━━━━━━━━━━━━━━━━\u001b[0m\u001b[37m\u001b[0m \u001b[1m1s\u001b[0m 35ms/step - loss: 0.0042\n",
      "Epoch 6/20\n",
      "\u001b[1m38/38\u001b[0m \u001b[32m━━━━━━━━━━━━━━━━━━━━\u001b[0m\u001b[37m\u001b[0m \u001b[1m1s\u001b[0m 30ms/step - loss: 0.0039\n",
      "Epoch 7/20\n",
      "\u001b[1m38/38\u001b[0m \u001b[32m━━━━━━━━━━━━━━━━━━━━\u001b[0m\u001b[37m\u001b[0m \u001b[1m1s\u001b[0m 31ms/step - loss: 0.0033\n",
      "Epoch 8/20\n",
      "\u001b[1m38/38\u001b[0m \u001b[32m━━━━━━━━━━━━━━━━━━━━\u001b[0m\u001b[37m\u001b[0m \u001b[1m1s\u001b[0m 33ms/step - loss: 0.0029\n",
      "Epoch 9/20\n",
      "\u001b[1m38/38\u001b[0m \u001b[32m━━━━━━━━━━━━━━━━━━━━\u001b[0m\u001b[37m\u001b[0m \u001b[1m1s\u001b[0m 33ms/step - loss: 0.0028\n",
      "Epoch 10/20\n",
      "\u001b[1m38/38\u001b[0m \u001b[32m━━━━━━━━━━━━━━━━━━━━\u001b[0m\u001b[37m\u001b[0m \u001b[1m1s\u001b[0m 30ms/step - loss: 0.0028\n",
      "Epoch 11/20\n",
      "\u001b[1m38/38\u001b[0m \u001b[32m━━━━━━━━━━━━━━━━━━━━\u001b[0m\u001b[37m\u001b[0m \u001b[1m1s\u001b[0m 34ms/step - loss: 0.0027\n",
      "Epoch 12/20\n",
      "\u001b[1m38/38\u001b[0m \u001b[32m━━━━━━━━━━━━━━━━━━━━\u001b[0m\u001b[37m\u001b[0m \u001b[1m1s\u001b[0m 33ms/step - loss: 0.0025\n",
      "Epoch 13/20\n",
      "\u001b[1m38/38\u001b[0m \u001b[32m━━━━━━━━━━━━━━━━━━━━\u001b[0m\u001b[37m\u001b[0m \u001b[1m1s\u001b[0m 31ms/step - loss: 0.0024\n",
      "Epoch 14/20\n",
      "\u001b[1m38/38\u001b[0m \u001b[32m━━━━━━━━━━━━━━━━━━━━\u001b[0m\u001b[37m\u001b[0m \u001b[1m1s\u001b[0m 29ms/step - loss: 0.0025\n",
      "Epoch 15/20\n",
      "\u001b[1m38/38\u001b[0m \u001b[32m━━━━━━━━━━━━━━━━━━━━\u001b[0m\u001b[37m\u001b[0m \u001b[1m1s\u001b[0m 28ms/step - loss: 0.0021\n",
      "Epoch 16/20\n",
      "\u001b[1m38/38\u001b[0m \u001b[32m━━━━━━━━━━━━━━━━━━━━\u001b[0m\u001b[37m\u001b[0m \u001b[1m1s\u001b[0m 29ms/step - loss: 0.0021\n",
      "Epoch 17/20\n",
      "\u001b[1m38/38\u001b[0m \u001b[32m━━━━━━━━━━━━━━━━━━━━\u001b[0m\u001b[37m\u001b[0m \u001b[1m1s\u001b[0m 34ms/step - loss: 0.0020\n",
      "Epoch 18/20\n",
      "\u001b[1m38/38\u001b[0m \u001b[32m━━━━━━━━━━━━━━━━━━━━\u001b[0m\u001b[37m\u001b[0m \u001b[1m1s\u001b[0m 33ms/step - loss: 0.0020\n",
      "Epoch 19/20\n",
      "\u001b[1m38/38\u001b[0m \u001b[32m━━━━━━━━━━━━━━━━━━━━\u001b[0m\u001b[37m\u001b[0m \u001b[1m1s\u001b[0m 37ms/step - loss: 0.0021\n",
      "Epoch 20/20\n",
      "\u001b[1m38/38\u001b[0m \u001b[32m━━━━━━━━━━━━━━━━━━━━\u001b[0m\u001b[37m\u001b[0m \u001b[1m1s\u001b[0m 32ms/step - loss: 0.0018\n"
     ]
    },
    {
     "data": {
      "text/plain": [
       "<keras.src.callbacks.history.History at 0x152932090>"
      ]
     },
     "execution_count": 12,
     "metadata": {},
     "output_type": "execute_result"
    }
   ],
   "source": [
    "model.fit(X, y, epochs=20, batch_size=32, verbose=1)"
   ]
  },
  {
   "cell_type": "markdown",
   "id": "8e0ac38d-d5f4-420a-9a72-7fe1535d2843",
   "metadata": {},
   "source": [
    "### 6. Forecasting"
   ]
  },
  {
   "cell_type": "code",
   "execution_count": 13,
   "id": "3552ec60-d042-4f76-9202-0d99b50261c5",
   "metadata": {},
   "outputs": [],
   "source": [
    "n_future = 5\n",
    "last_sequence = scaled_features[-sequence_length:]\n",
    "forecast = []\n",
    "current_seq = last_sequence.copy()"
   ]
  },
  {
   "cell_type": "code",
   "execution_count": 14,
   "id": "7485b10b-6fe2-4f6e-ada5-6a73e162b130",
   "metadata": {},
   "outputs": [
    {
     "name": "stdout",
     "output_type": "stream",
     "text": [
      "\u001b[1m1/1\u001b[0m \u001b[32m━━━━━━━━━━━━━━━━━━━━\u001b[0m\u001b[37m\u001b[0m \u001b[1m0s\u001b[0m 319ms/step\n",
      "\u001b[1m1/1\u001b[0m \u001b[32m━━━━━━━━━━━━━━━━━━━━\u001b[0m\u001b[37m\u001b[0m \u001b[1m0s\u001b[0m 38ms/step\n",
      "\u001b[1m1/1\u001b[0m \u001b[32m━━━━━━━━━━━━━━━━━━━━\u001b[0m\u001b[37m\u001b[0m \u001b[1m0s\u001b[0m 37ms/step\n",
      "\u001b[1m1/1\u001b[0m \u001b[32m━━━━━━━━━━━━━━━━━━━━\u001b[0m\u001b[37m\u001b[0m \u001b[1m0s\u001b[0m 40ms/step\n",
      "\u001b[1m1/1\u001b[0m \u001b[32m━━━━━━━━━━━━━━━━━━━━\u001b[0m\u001b[37m\u001b[0m \u001b[1m0s\u001b[0m 36ms/step\n"
     ]
    }
   ],
   "source": [
    "for _ in range(n_future):\n",
    "    input_seq = np.reshape(current_seq, (1, sequence_length, num_features))\n",
    "    pred = model.predict(input_seq)\n",
    "    forecast.append(pred[0][0])\n",
    "    # Update sequence for next prediction\n",
    "    current_seq = np.vstack([current_seq[1:], np.pad(pred, ((0,0),(0,num_features-1)), 'constant')])"
   ]
  },
  {
   "cell_type": "code",
   "execution_count": 15,
   "id": "5ea8286d-3839-42e1-a385-042229893c90",
   "metadata": {},
   "outputs": [
    {
     "name": "stdout",
     "output_type": "stream",
     "text": [
      "5-day forecasted closing prices: [126.02236  107.521095  88.13798   72.13078   60.105637]\n"
     ]
    }
   ],
   "source": [
    "forecast = np.array(forecast).reshape(-1,1)\n",
    "# Inverse scale only the Close price\n",
    "close_min = scaler.data_min_[3]\n",
    "close_max = scaler.data_max_[3]\n",
    "forecast_price = forecast * (close_max - close_min) + close_min\n",
    "\n",
    "print(\"5-day forecasted closing prices:\", forecast_price.flatten())"
   ]
  },
  {
   "cell_type": "markdown",
   "id": "98c76fa6-b21e-40d4-8814-8ff9a903b0fc",
   "metadata": {},
   "source": [
    "### 7. Evaluation\n",
    "- RMSE: root mean sqaured error\n",
    "- MAE: mean absolute error\n",
    "- MAPE: mean absolute percentage error"
   ]
  },
  {
   "cell_type": "code",
   "execution_count": 16,
   "id": "e4bf0a7e-f311-4954-b736-0dc88595e271",
   "metadata": {},
   "outputs": [],
   "source": [
    "y_true = scaled_features[-5:, 3] * (close_max - close_min) + close_min\n",
    "rmse = np.sqrt(mean_squared_error(y_true, forecast_price.flatten()))\n",
    "mae = mean_absolute_error(y_true, forecast_price.flatten())\n",
    "mape = np.mean(np.abs((y_true - forecast_price.flatten()) / y_true)) * 100"
   ]
  },
  {
   "cell_type": "code",
   "execution_count": 17,
   "id": "9501be12-5728-4778-bd1b-40c0078a78a6",
   "metadata": {},
   "outputs": [
    {
     "name": "stdout",
     "output_type": "stream",
     "text": [
      "RMSE: 43.54, MAE: 36.91, MAPE: 28.99%\n"
     ]
    }
   ],
   "source": [
    "print(f\"RMSE: {rmse:.2f}, MAE: {mae:.2f}, MAPE: {mape:.2f}%\")"
   ]
  },
  {
   "cell_type": "code",
   "execution_count": null,
   "id": "4ecfea64-d109-482d-830f-9a24315eb402",
   "metadata": {},
   "outputs": [],
   "source": []
  }
 ],
 "metadata": {
  "kernelspec": {
   "display_name": "Python 3 (ipykernel)",
   "language": "python",
   "name": "python3"
  },
  "language_info": {
   "codemirror_mode": {
    "name": "ipython",
    "version": 3
   },
   "file_extension": ".py",
   "mimetype": "text/x-python",
   "name": "python",
   "nbconvert_exporter": "python",
   "pygments_lexer": "ipython3",
   "version": "3.12.3"
  }
 },
 "nbformat": 4,
 "nbformat_minor": 5
}
